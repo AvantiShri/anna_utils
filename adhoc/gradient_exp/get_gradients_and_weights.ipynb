{
 "cells": [
  {
   "cell_type": "code",
   "execution_count": 96,
   "metadata": {
    "collapsed": false
   },
   "outputs": [],
   "source": [
    "import simdna\n",
    "reload(simdna)\n",
    "import simdna.synthetic as synthetic\n",
    "reload(synthetic)\n",
    "import gzip \n",
    "import h5py\n",
    "import numpy as np"
   ]
  },
  {
   "cell_type": "code",
   "execution_count": 97,
   "metadata": {
    "collapsed": false
   },
   "outputs": [],
   "source": [
    "gata_file=\"DensityEmbedding_prefix-gata_motifs-GATA_disc1_min-1_max-3_mean-2_zeroProb-0_seqLength-200_numSeqs-1000.simdata.gz\"\n",
    "tal_file=\"DensityEmbedding_prefix-tal_motifs-TAL1_known1_min-1_max-3_mean-2_zeroProb-0_seqLength-200_numSeqs-1000.simdata.gz\"\n",
    "gata_tal_file=\"DensityEmbedding_prefix-talgata_motifs-GATA_disc1+TAL1_known1_min-1_max-3_mean-2_zeroProb-0_seqLength-200_numSeqs-1000.simdata.gz\"\n",
    "\n",
    "train_ids_fh=gzip.open(\"splits/train.txt.gz\",'rb')\n",
    "ids_to_load=[x.rstrip(\"\\n\") for x in train_ids_fh]"
   ]
  },
  {
   "cell_type": "code",
   "execution_count": 98,
   "metadata": {
    "collapsed": false
   },
   "outputs": [],
   "source": [
    "gata_data=synthetic.read_simdata_file(gata_file)\n",
    "tal_data=synthetic.read_simdata_file(tal_file)\n",
    "combined_data=synthetic.read_simdata_file(gata_tal_file)"
   ]
  },
  {
   "cell_type": "code",
   "execution_count": 100,
   "metadata": {
    "collapsed": false
   },
   "outputs": [],
   "source": [
    "#generate dictionary of embedding id to start & end positions \n",
    "pos_dict=dict() \n",
    "pos_dict['gata-']=dict() \n",
    "for i in range(len(gata_data.ids)): \n",
    "    cur_id=gata_data.ids[i]\n",
    "    cur_embedding=gata_data.embeddings[i] \n",
    "    start_pos=[e.startPos for e in cur_embedding]\n",
    "    end_pos=[e.startPos+len(e.what) for e in cur_embedding]\n",
    "    pos_dict['gata-'][cur_id]=[start_pos,end_pos]\n",
    "    \n",
    "pos_dict['tal-']=dict() \n",
    "for i in range(len(tal_data.ids)): \n",
    "    cur_id=tal_data.ids[i]\n",
    "    cur_embedding=tal_data.embeddings[i] \n",
    "    start_pos=[e.startPos for e in cur_embedding]\n",
    "    end_pos=[e.startPos+len(e.what) for e in cur_embedding]\n",
    "    pos_dict['tal-'][cur_id]=[start_pos,end_pos]\n",
    "\n",
    "# The combined dictionary contains both tal & gata entries!! \n",
    "for i in range(len(combined_data.ids)): \n",
    "    cur_id=combined_data.ids[i]\n",
    "    cur_embedding=combined_data.embeddings[i] \n",
    "    start_pos_gata=[] \n",
    "    start_pos_tal=[] \n",
    "    end_pos_gata=[] \n",
    "    end_pos_tal=[] \n",
    "    #print(cur_id+\":\"+str([e.what.getDescription() for e in cur_embedding]))\n",
    "    #print(cur_id+\":\"+str([e.startPos for e in cur_embedding]))\n",
    "    for e in cur_embedding: \n",
    "        e_start=e.startPos \n",
    "        e_end=e_start+len(e.what)\n",
    "        e_description=e.what.getDescription() \n",
    "        if e_description==\"GATA_disc1\": \n",
    "            start_pos_gata.append(e_start)\n",
    "            end_pos_gata.append(e_end)\n",
    "        else: \n",
    "            start_pos_tal.append(e_start)\n",
    "            end_pos_tal.append(e_start)\n",
    "    #print(str(start_pos_tal))\n",
    "    if len(start_pos_gata)>0:\n",
    "        pos_dict['gata-'][cur_id]=[start_pos_gata,end_pos_gata]\n",
    "    if len(start_pos_tal)>0:\n",
    "        pos_dict['tal-'][cur_id]=[start_pos_tal,end_pos_tal]"
   ]
  },
  {
   "cell_type": "code",
   "execution_count": 101,
   "metadata": {
    "collapsed": false
   },
   "outputs": [],
   "source": [
    "#initialize arrays to store weights and true gradients\n",
    "seq_length=200\n",
    "num_channels=4\n",
    "weights=np.zeros((len(ids_to_load),seq_length))\n",
    "true_gradients=np.zeros((len(ids_to_load),seq_length,num_channels))"
   ]
  },
  {
   "cell_type": "code",
   "execution_count": 106,
   "metadata": {
    "collapsed": false
   },
   "outputs": [],
   "source": [
    "#initialize the motif log(pwm/background) for TAL & GATA \n",
    "gata_freqs=np.loadtxt(\"motif_freqs/GATA_disc1.freq\")\n",
    "tal_freqs=np.loadtxt(\"motif_freqs/TAL1_known1.freq\")\n",
    "background=np.array([0.276,0.277,0.222,0.222]) #A,C,G,T"
   ]
  },
  {
   "cell_type": "code",
   "execution_count": 121,
   "metadata": {
    "collapsed": false
   },
   "outputs": [
    {
     "name": "stderr",
     "output_type": "stream",
     "text": [
      "/users/annashch/anaconda2/lib/python2.7/site-packages/ipykernel/__main__.py:5: RuntimeWarning: divide by zero encountered in log2\n",
      "/users/annashch/anaconda2/lib/python2.7/site-packages/ipykernel/__main__.py:9: RuntimeWarning: divide by zero encountered in log2\n"
     ]
    }
   ],
   "source": [
    "#true gradients must be on the same scale as gradients computed by the model \n",
    "min_grad=-3 \n",
    "max_grad=3\n",
    "\n",
    "gata_pwm=np.log2(gata_freqs/background)\n",
    "gata_pwm[gata_pwm<min_grad]=min_grad\n",
    "gata_pwm[gata_pwm>max_grad]=max_grad\n",
    "\n",
    "tal_pwm=np.log2(tal_freqs/background)\n",
    "tal_pwm[tal_pwm<min_grad]=min_grad\n",
    "tal_pwm[tal_pwm>max_grad]=max_grad"
   ]
  },
  {
   "cell_type": "code",
   "execution_count": 124,
   "metadata": {
    "collapsed": false
   },
   "outputs": [],
   "source": [
    "#Iterate through the sequences to fill in weights & gradients \n",
    "for i in range(len(ids_to_load)): \n",
    "    cur_id=ids_to_load[i]\n",
    "    if cur_id in pos_dict['gata-']: \n",
    "        startpos=pos_dict['gata-'][cur_id][0]\n",
    "        endpos=pos_dict['gata-'][cur_id][1]\n",
    "        for entry in range(len(startpos)):\n",
    "            weights[i,startpos[entry]:endpos[entry]]=1\n",
    "            true_gradients[i,startpos[entry]:endpos[entry],:]=gata_pwm\n",
    "    elif cur_id in pos_dict['tal-']: \n",
    "        startpos=pos_dict['tal-'][cur_id][0] \n",
    "        endpos=pos_dict['tal-'][cur_id][1]\n",
    "        for entry in range(len(startpos)):\n",
    "            weights[i,startpos[entry]:endpos[entry]]=1\n",
    "            true_gradients[i,startpos[entry]:endpos[entry],:]=tal_pwm\n",
    "    else: \n",
    "        print('cannot find id:'+str(cur_id)+\" in dictionary!\")"
   ]
  },
  {
   "cell_type": "code",
   "execution_count": 131,
   "metadata": {
    "collapsed": false
   },
   "outputs": [],
   "source": [
    "#save weights & gradients\n",
    "np.save(\"weights.npy\",weights)\n",
    "np.save(\"gradients.npy\",true_gradients)"
   ]
  },
  {
   "cell_type": "code",
   "execution_count": null,
   "metadata": {
    "collapsed": true
   },
   "outputs": [],
   "source": []
  }
 ],
 "metadata": {
  "kernelspec": {
   "display_name": "Python 2",
   "language": "python",
   "name": "python2"
  },
  "language_info": {
   "codemirror_mode": {
    "name": "ipython",
    "version": 2
   },
   "file_extension": ".py",
   "mimetype": "text/x-python",
   "name": "python",
   "nbconvert_exporter": "python",
   "pygments_lexer": "ipython2",
   "version": "2.7.12"
  }
 },
 "nbformat": 4,
 "nbformat_minor": 0
}
